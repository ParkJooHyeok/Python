{
 "cells": [
  {
   "cell_type": "markdown",
   "id": "2d45a555",
   "metadata": {},
   "source": [
    "* 단위기간 -> 전달 7일부터 ~ 이번달 6일까지\n",
    "* `조퇴 관련 계산 -> 하루 훈련시간 중 5시간 이상 수강할 경우에만 점심비 인정`\n",
    "*`조퇴 인정은 수업시간 50% 이상만 수강하면 인정되지만 점심비 받는 기준은 다름`\n",
    "* 조퇴 3일 이상은 결석으로 처리되므로 0으로 계산함\n",
    "* 출석인정일은 결석일을 이미 제외했다는 전제로 계산함\n",
    "*\n",
    "* (출석 관련 참고)\n",
    "* 출석 인정 -> 수업시작 시간인 몇시:10분을 기준을 +-10분까지 인정\n",
    "* ex) 오전 9시 10분 수업 시작 -> 20분까지 입실찍으면 인정\n",
    "* ex) 오후 6시 10분 수업 끝 -> 0분부터 퇴실찍으면 인정\n",
    "* ex) 오후 1시 오전수업 끝 -> 1시부터 퇴실찍으면 조퇴 인정\n",
    "* hrd 출결앱에는 수업시간이 50%미만으로 기록되지만 조퇴로 인정됨"
   ]
  },
  {
   "cell_type": "code",
   "execution_count": 75,
   "id": "4a22ce9c",
   "metadata": {},
   "outputs": [
    {
     "name": "stdout",
     "output_type": "stream",
     "text": [
      "단위기간 중 출석 인정일을 입력하시오: 19\n",
      "단위기간 중 조퇴(수업 5시간 미만)일수를 입력하시오: 2\n",
      "이번 단위기간 훈련장려금: 288,600원\n"
     ]
    }
   ],
   "source": [
    "x = int(input('단위기간 중 출석 인정일을 입력하시오: '))\n",
    "z = int(input('단위기간 중 조퇴(수업 5시간 미만)일수를 입력하시오: '))\n",
    "\n",
    "# 점심출석인정 횟수 계산\n",
    "if x - z >= 20:\n",
    "    lunch_cost = 20\n",
    "else:\n",
    "    lunch_cost = x - z\n",
    "    \n",
    "if z>=3:\n",
    "    z=0\n",
    "else:\n",
    "    0<=z<3\n",
    "\n",
    "# 훈련출석인정횟수 계산\n",
    "if x >= 30:\n",
    "    training_cost = 30\n",
    "else:\n",
    "    training_cost = x\n",
    "\n",
    "# 총훈련비 계산\n",
    "total_cost = lunch_cost * 5800 + training_cost * 10000\n",
    "\n",
    "if total_cost<0:\n",
    "    total_cost=0\n",
    "\n",
    "print(f'이번 단위기간 훈련장려금: {total_cost:,}원')"
   ]
  },
  {
   "cell_type": "markdown",
   "id": "6b571779",
   "metadata": {},
   "source": [
    "22출석 조퇴1\n",
    "22-1=21 BUT 20 \n",
    "20*5800 =116000\n",
    "\n",
    "22출석\n",
    "22*10000=220000\n",
    "\n",
    "336000"
   ]
  },
  {
   "cell_type": "code",
   "execution_count": null,
   "id": "4e51d8d1",
   "metadata": {},
   "outputs": [],
   "source": []
  },
  {
   "cell_type": "code",
   "execution_count": null,
   "id": "f386b1d0",
   "metadata": {},
   "outputs": [],
   "source": []
  }
 ],
 "metadata": {
  "kernelspec": {
   "display_name": "Python 3 (ipykernel)",
   "language": "python",
   "name": "python3"
  },
  "language_info": {
   "codemirror_mode": {
    "name": "ipython",
    "version": 3
   },
   "file_extension": ".py",
   "mimetype": "text/x-python",
   "name": "python",
   "nbconvert_exporter": "python",
   "pygments_lexer": "ipython3",
   "version": "3.9.13"
  }
 },
 "nbformat": 4,
 "nbformat_minor": 5
}
