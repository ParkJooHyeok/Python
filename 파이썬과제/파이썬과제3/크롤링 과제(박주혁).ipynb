{
 "cells": [
  {
   "cell_type": "code",
   "execution_count": null,
   "id": "b5019461",
   "metadata": {},
   "outputs": [],
   "source": [
    "# 종목분석 리포트\n",
    "lastpage = int(pyautogui.prompt('몇 페이지까지 크롤링 할까요?'))\n",
    "\n",
    "# 엑셀 파일\n",
    "wb = openpyxl.Workbook()\n",
    "ws = wb.create_sheet('종목분석 리포트')\n",
    "ws.append(['종목명', '첨부'])\n",
    "\n",
    "ws.column_dimensions['A'].width = 45\n",
    "ws.column_dimensions['B'].width = 150\n",
    "\n",
    "for i in range(1, lastpage+1):\n",
    "    \n",
    "    url = f'https://finance.naver.com/research/company_list.naver?&page={i}'\n",
    "    res = requests.get(url)\n",
    "    soup = bs(res.text, 'html.parser')\n",
    "    links = soup.select('table.type_1>tr')\n",
    "    \n",
    "\n",
    "    titles = soup.select('.stock_item')\n",
    "    files = soup.select('td.file>a')\n",
    "    result_list=[]\n",
    "    file_list=[]\n",
    "    \n",
    "    for title in titles:\n",
    "        result = title.text\n",
    "        result_list.append(result)\n",
    "        \n",
    "    for file in files:\n",
    "        a = file.attrs['href']\n",
    "        file_list.append(a)\n",
    "#         print(a) \n",
    "\n",
    "    for i in zip(result_list,file_list):\n",
    "#         print(i)\n",
    "        ws.append(i)\n",
    "            \n",
    "wb.save('./data/crawling/종목분석리포트.xlsx')"
   ]
  }
 ],
 "metadata": {
  "kernelspec": {
   "display_name": "Python 3 (ipykernel)",
   "language": "python",
   "name": "python3"
  },
  "language_info": {
   "codemirror_mode": {
    "name": "ipython",
    "version": 3
   },
   "file_extension": ".py",
   "mimetype": "text/x-python",
   "name": "python",
   "nbconvert_exporter": "python",
   "pygments_lexer": "ipython3",
   "version": "3.9.16"
  }
 },
 "nbformat": 4,
 "nbformat_minor": 5
}
